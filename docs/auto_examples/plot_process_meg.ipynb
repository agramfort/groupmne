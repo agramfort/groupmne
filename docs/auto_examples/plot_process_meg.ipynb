{
  "cells": [
    {
      "cell_type": "code",
      "execution_count": null,
      "metadata": {
        "collapsed": false
      },
      "outputs": [],
      "source": [
        "%matplotlib inline"
      ]
    },
    {
      "cell_type": "markdown",
      "metadata": {},
      "source": [
        "\nMulti-subject MEG processing\n============================\n\nThe aim of this tutorial is to show how to process MEG with the purpose of\ncomputing source estimates jointly for a group of subjects (see Group Lasso\nexample).\n\n"
      ]
    },
    {
      "cell_type": "code",
      "execution_count": null,
      "metadata": {
        "collapsed": false
      },
      "outputs": [],
      "source": [
        "# Author: Hicham Janati (hicham.janati@inria.fr)\n#\n# License: BSD (3-clause)\n\nimport os\nimport os.path as op\nfrom mne import compute_covariance, write_cov, find_events, Epochs, pick_types\nfrom mne.io import read_raw_fif\nfrom mne.datasets import hf_sef\nfrom matplotlib import pyplot as plt"
      ]
    },
    {
      "cell_type": "markdown",
      "metadata": {},
      "source": [
        "Download and process MEG data\n-----------------------------\n\nWe download the raw data to estimate the noise covariance of each subject\n\n"
      ]
    },
    {
      "cell_type": "code",
      "execution_count": null,
      "metadata": {
        "collapsed": false
      },
      "outputs": [],
      "source": [
        "data_path = hf_sef.data_path(\"raw\")\nmeg_path = data_path + \"/MEG/\"\n\ndata_path = op.expanduser(data_path)\nsubjects_dir = data_path + \"/subjects/\"\nos.environ['SUBJECTS_DIR'] = subjects_dir\n\nraw_name_s = [meg_path + s for s in [\"subject_a/sef_right_raw.fif\",\n              \"subject_b/hf_sef_15min_raw.fif\"]]\n\n# def get_epoch_cov(raw_name):\n#     raw = read_raw_fif(raw_name)\n#     events = find_events(raw)[:500]\n#     event_id = dict(hf=1)  # event trigger and conditions\n#     tmin = -0.05  # start of each epoch (50ms before the trigger)\n#     tmax = 0.3  # end of each epoch (300ms after the trigger)\n#     baseline = (None, 0)  # means from the first instant to t = 0\n#     epochs = Epochs(raw, events, event_id, tmin, tmax, proj=True,\n#                     baseline=baseline)\n#     del events, raw\n#     cov = compute_covariance(epochs, tmin=None, tmax=0.)\n#     return epochs, cov\n#\n#\n# evoked_s = []\n#\n# # compute noise covariance (takes a few minutes)\n# noise_cov_s = []\n# for subj, raw_name in zip([\"a\", \"b\"], raw_name_s):\n#     print(\"computing noise covariance for subject %s ...\" % subj)\n#     ep, cov = get_epoch_cov(raw_name)\n#     noise_cov_s.append(cov)\n#     cov_fname = meg_path + \"subject_%s/sef-cov.fif\" % subj\n#     write_cov(cov_fname, cov)\n#     evoked_s.append(ep.average())\n#\n# f, axes = plt.subplots(1, 2, sharey=True)\n# for ax, ev, ll in zip(axes.ravel(), evoked_s, [\"a\", \"b\"]):\n#     picks = pick_types(ev.info, meg=\"grad\")\n#     ev.plot(picks=picks, axes=ax, show=False)\n#     ax.set_title(\"Subject %s\" % ll, fontsize=15)\n# plt.show()"
      ]
    }
  ],
  "metadata": {
    "kernelspec": {
      "display_name": "Python 3",
      "language": "python",
      "name": "python3"
    },
    "language_info": {
      "codemirror_mode": {
        "name": "ipython",
        "version": 3
      },
      "file_extension": ".py",
      "mimetype": "text/x-python",
      "name": "python",
      "nbconvert_exporter": "python",
      "pygments_lexer": "ipython3",
      "version": "3.6.5"
    }
  },
  "nbformat": 4,
  "nbformat_minor": 0
}